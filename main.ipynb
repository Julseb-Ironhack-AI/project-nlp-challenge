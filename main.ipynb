{
 "cells": [
  {
   "cell_type": "markdown",
   "id": "7df78ccd",
   "metadata": {},
   "source": [
    "# Project NLP Challenge"
   ]
  },
  {
   "cell_type": "markdown",
   "id": "d68c0d0f",
   "metadata": {},
   "source": [
    "Explain what the project is for, and quickly how we are going to do it"
   ]
  },
  {
   "cell_type": "code",
   "execution_count": null,
   "id": "24491ab4",
   "metadata": {},
   "outputs": [
    {
     "data": {
      "text/html": [
       "<div>\n",
       "<style scoped>\n",
       "    .dataframe tbody tr th:only-of-type {\n",
       "        vertical-align: middle;\n",
       "    }\n",
       "\n",
       "    .dataframe tbody tr th {\n",
       "        vertical-align: top;\n",
       "    }\n",
       "\n",
       "    .dataframe thead th {\n",
       "        text-align: right;\n",
       "    }\n",
       "</style>\n",
       "<table border=\"1\" class=\"dataframe\">\n",
       "  <thead>\n",
       "    <tr style=\"text-align: right;\">\n",
       "      <th></th>\n",
       "      <th>label</th>\n",
       "      <th>title</th>\n",
       "    </tr>\n",
       "  </thead>\n",
       "  <tbody>\n",
       "    <tr>\n",
       "      <th>0</th>\n",
       "      <td>0</td>\n",
       "      <td>donald trump sends out embarrassing new year‚s...</td>\n",
       "    </tr>\n",
       "    <tr>\n",
       "      <th>1</th>\n",
       "      <td>0</td>\n",
       "      <td>drunk bragging trump staffer started russian c...</td>\n",
       "    </tr>\n",
       "    <tr>\n",
       "      <th>2</th>\n",
       "      <td>0</td>\n",
       "      <td>sheriff david clarke becomes an internet joke ...</td>\n",
       "    </tr>\n",
       "    <tr>\n",
       "      <th>3</th>\n",
       "      <td>0</td>\n",
       "      <td>trump is so obsessed he even has obama‚s name ...</td>\n",
       "    </tr>\n",
       "    <tr>\n",
       "      <th>4</th>\n",
       "      <td>0</td>\n",
       "      <td>pope francis just called out donald trump duri...</td>\n",
       "    </tr>\n",
       "  </tbody>\n",
       "</table>\n",
       "</div>"
      ],
      "text/plain": [
       "   label                                              title\n",
       "0      0  donald trump sends out embarrassing new year‚s...\n",
       "1      0  drunk bragging trump staffer started russian c...\n",
       "2      0  sheriff david clarke becomes an internet joke ...\n",
       "3      0  trump is so obsessed he even has obama‚s name ...\n",
       "4      0  pope francis just called out donald trump duri..."
      ]
     },
     "execution_count": 1,
     "metadata": {},
     "output_type": "execute_result"
    }
   ],
   "source": [
    "# Import dfset\n",
    "import pandas as pd\n",
    "df = pd.read_csv(\"./dfset/training_df_lowercase.csv\")\n",
    "df.head()"
   ]
  },
  {
   "cell_type": "code",
   "execution_count": null,
   "id": "2d2ca207",
   "metadata": {},
   "outputs": [
    {
     "name": "stdout",
     "output_type": "stream",
     "text": [
      "(27321, 3)\n",
      "(6831, 3)\n"
     ]
    }
   ],
   "source": [
    "# Split dfset\n",
    "from sklearn.model_selection import train_test_split\n",
    "df_train, df_test = train_test_split(df, test_size=0.2, random_state=42, stratify=df['label'])\n",
    "print(df_train.shape)\n",
    "print(df_test.shape)"
   ]
  },
  {
   "cell_type": "code",
   "execution_count": 8,
   "id": "fb966856",
   "metadata": {},
   "outputs": [
    {
     "name": "stdout",
     "output_type": "stream",
     "text": [
      "!\"#$%&'()*+,-./:;<=>?@[\\]^_`{|}~\n",
      "['once', 'only', 'or', 'other', 'our', 'ours', 'ourselves', 'out', 'over', 'own', 're', 's', 'same', 'shan', \"shan't\", 'she', \"she'd\", \"she'll\", \"she's\", 'should', 'shouldn', \"shouldn't\", \"should've\", 'so', 'some', 'such', 't', 'than', 'that', \"that'll\", 'the', 'their', 'theirs', 'them', 'themselves', 'then', 'there', 'these', 'they', \"they'd\"]\n",
      "set()\n"
     ]
    }
   ],
   "source": [
    "import string\n",
    "from nltk.corpus import stopwords\n",
    "print(string.punctuation)\n",
    "print(stopwords.words(\"english\")[110:150])\n",
    "\n",
    "from nltk.stem.snowball import SnowballStemmer\n",
    "snowball = SnowballStemmer(\"english\")\n",
    "print(snowball.stopwords)"
   ]
  },
  {
   "cell_type": "code",
   "execution_count": 11,
   "id": "56fcc6fb",
   "metadata": {},
   "outputs": [
    {
     "name": "stdout",
     "output_type": "stream",
     "text": [
      "                                   preprocessed_text\n",
      "0  donald trump sends out embarrassing new years ...\n",
      "1  drunk bragging trump staffer started russian c...\n",
      "2  sheriff david clarke becomes an internet joke ...\n",
      "3  trump is so obsessed he even has obamas name c...\n",
      "4  pope francis just called out donald trump duri...\n",
      "                                       preprocessed_text\n",
      "6851   republicans punish georgia governor for refusi...\n",
      "17313  father of soldier slain in niger defends presi...\n",
      "22435  south dakotas governor vetoes loosening of con...\n",
      "29488  turkeys erdogan says will take jerusalem resol...\n",
      "6625   bill maher insults trumps supposed masculinity...\n",
      "                                       preprocessed_text\n",
      "6851   republicans punish georgia governor for refusi...\n",
      "17313  father of soldier slain in niger defends presi...\n",
      "22435  south dakotas governor vetoes loosening of con...\n",
      "29488  turkeys erdogan says will take jerusalem resol...\n",
      "6625   bill maher insults trumps supposed masculinity...\n"
     ]
    }
   ],
   "source": [
    "# Remove special characters and others\n",
    "import re\n",
    "\n",
    "# Remove special characters\n",
    "def remove_special_characters(text):\n",
    "\treturn re.sub(r'[^a-zA-Z\\s]', '', text)\n",
    "\n",
    "df[\"text_nospecial\"] = df[\"title\"].apply(remove_special_characters)\n",
    "df_train[\"text_nospecial\"] = df_train[\"title\"].apply(remove_special_characters)\n",
    "df_test[\"text_nospecial\"] = df_test[\"title\"].apply(remove_special_characters)\n",
    "\n",
    "# Remove numbers\n",
    "def remove_numbers(text):\n",
    "\treturn re.sub(r'\\d+', '', text)\n",
    "\n",
    "df['text_nonum'] = df['text_nospecial'].apply(remove_numbers)\n",
    "df_train['text_nonum'] = df_train['text_nospecial'].apply(remove_numbers)\n",
    "df_train['text_nonum'] = df_train['text_nospecial'].apply(remove_numbers)\n",
    "\n",
    "# Remove all single characters\n",
    "def remove_single_characters(text):\n",
    "\treturn re.sub(r'\\b[a-zA-Z]\\b', '', text)\n",
    "\n",
    "df['text_nosingle'] = df['text_nonum'].apply(remove_single_characters)\n",
    "df_train['text_nosingle'] = df_train['text_nonum'].apply(remove_single_characters)\n",
    "df_train['text_nosingle'] = df_train['text_nonum'].apply(remove_single_characters)\n",
    "\n",
    "# Remove single characters from the start\n",
    "def remove_single_characters_start(text):\n",
    "\treturn re.sub(r'^[a-zA-Z]\\s+', '', text)\n",
    "\n",
    "df['text_nosingle_start'] = df['text_nosingle'].apply(remove_single_characters_start)\n",
    "df_train['text_nosingle_start'] = df_train['text_nosingle'].apply(remove_single_characters_start)\n",
    "df_train['text_nosingle_start'] = df_train['text_nosingle'].apply(remove_single_characters_start)\n",
    "\n",
    "# Substitute multiple spaces with single space\n",
    "def substitute_multiple_spaces(text):\n",
    "\treturn re.sub(r'\\s+', ' ', text).strip()\n",
    "\n",
    "df['text_nospaces'] = df['text_nosingle_start'].apply(substitute_multiple_spaces)\n",
    "df_train['text_nospaces'] = df_train['text_nosingle_start'].apply(substitute_multiple_spaces)\n",
    "df_train['text_nospaces'] = df_train['text_nosingle_start'].apply(substitute_multiple_spaces)\n",
    "\n",
    "# Remove prefixed 'b'\n",
    "def remove_prefixed_b(text):\n",
    "\treturn re.sub(r'^b\\s+', '', text)\n",
    "\n",
    "df['text_noprefixb'] = df['text_nospaces'].apply(remove_prefixed_b)\n",
    "df_train['text_noprefixb'] = df_train['text_nospaces'].apply(remove_prefixed_b)\n",
    "df_train['text_noprefixb'] = df_train['text_nospaces'].apply(remove_prefixed_b)\n",
    "\n",
    "# Convert to Lowercase\n",
    "df['preprocessed_text'] = df['text_noprefixb'].str.lower()\n",
    "df_train['preprocessed_text'] = df_train['text_noprefixb'].str.lower()\n",
    "df_train['preprocessed_text'] = df_train['text_noprefixb'].str.lower()\n",
    "\n",
    "print(df[['preprocessed_text']].head())\n",
    "print(df_train[['preprocessed_text']].head())\n",
    "print(df_train[['preprocessed_text']].head())"
   ]
  },
  {
   "cell_type": "markdown",
   "id": "f8a0936c",
   "metadata": {},
   "source": []
  }
 ],
 "metadata": {
  "kernelspec": {
   "display_name": "base",
   "language": "python",
   "name": "python3"
  },
  "language_info": {
   "codemirror_mode": {
    "name": "ipython",
    "version": 3
   },
   "file_extension": ".py",
   "mimetype": "text/x-python",
   "name": "python",
   "nbconvert_exporter": "python",
   "pygments_lexer": "ipython3",
   "version": "3.12.2"
  }
 },
 "nbformat": 4,
 "nbformat_minor": 5
}
