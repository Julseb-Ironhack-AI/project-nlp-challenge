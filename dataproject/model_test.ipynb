{
 "cells": [
  {
   "cell_type": "markdown",
   "id": "7df78ccd",
   "metadata": {},
   "source": [
    "# Project NLP Challenge"
   ]
  },
  {
   "cell_type": "markdown",
   "id": "d68c0d0f",
   "metadata": {},
   "source": [
    "Explain what the project is for, and quickly how we are going to do it"
   ]
  },
  {
   "cell_type": "code",
   "execution_count": 13,
   "id": "24491ab4",
   "metadata": {},
   "outputs": [
    {
     "data": {
      "text/html": [
       "<div>\n",
       "<style scoped>\n",
       "    .dataframe tbody tr th:only-of-type {\n",
       "        vertical-align: middle;\n",
       "    }\n",
       "\n",
       "    .dataframe tbody tr th {\n",
       "        vertical-align: top;\n",
       "    }\n",
       "\n",
       "    .dataframe thead th {\n",
       "        text-align: right;\n",
       "    }\n",
       "</style>\n",
       "<table border=\"1\" class=\"dataframe\">\n",
       "  <thead>\n",
       "    <tr style=\"text-align: right;\">\n",
       "      <th></th>\n",
       "      <th>label</th>\n",
       "      <th>title</th>\n",
       "    </tr>\n",
       "  </thead>\n",
       "  <tbody>\n",
       "    <tr>\n",
       "      <th>0</th>\n",
       "      <td>0</td>\n",
       "      <td>donald trump sends out embarrassing new year‚s...</td>\n",
       "    </tr>\n",
       "    <tr>\n",
       "      <th>1</th>\n",
       "      <td>0</td>\n",
       "      <td>drunk bragging trump staffer started russian c...</td>\n",
       "    </tr>\n",
       "    <tr>\n",
       "      <th>2</th>\n",
       "      <td>0</td>\n",
       "      <td>sheriff david clarke becomes an internet joke ...</td>\n",
       "    </tr>\n",
       "    <tr>\n",
       "      <th>3</th>\n",
       "      <td>0</td>\n",
       "      <td>trump is so obsessed he even has obama‚s name ...</td>\n",
       "    </tr>\n",
       "    <tr>\n",
       "      <th>4</th>\n",
       "      <td>0</td>\n",
       "      <td>pope francis just called out donald trump duri...</td>\n",
       "    </tr>\n",
       "  </tbody>\n",
       "</table>\n",
       "</div>"
      ],
      "text/plain": [
       "   label                                              title\n",
       "0      0  donald trump sends out embarrassing new year‚s...\n",
       "1      0  drunk bragging trump staffer started russian c...\n",
       "2      0  sheriff david clarke becomes an internet joke ...\n",
       "3      0  trump is so obsessed he even has obama‚s name ...\n",
       "4      0  pope francis just called out donald trump duri..."
      ]
     },
     "execution_count": 13,
     "metadata": {},
     "output_type": "execute_result"
    }
   ],
   "source": [
    "# Import dataset\n",
    "import pandas as pd\n",
    "df = pd.read_csv(\"../dataset/training_data_lowercase.csv\")\n",
    "df.head()"
   ]
  },
  {
   "cell_type": "code",
   "execution_count": 17,
   "id": "ebb5ea30",
   "metadata": {},
   "outputs": [
    {
     "name": "stdout",
     "output_type": "stream",
     "text": [
      "<class 'pandas.core.frame.DataFrame'>\n",
      "RangeIndex: 34152 entries, 0 to 34151\n",
      "Data columns (total 9 columns):\n",
      " #   Column               Non-Null Count  Dtype \n",
      "---  ------               --------------  ----- \n",
      " 0   label                34152 non-null  int64 \n",
      " 1   title                34152 non-null  object\n",
      " 2   text_nospecial       34152 non-null  object\n",
      " 3   text_nonum           34152 non-null  object\n",
      " 4   text_nosingle        34152 non-null  object\n",
      " 5   text_nosingle_start  34152 non-null  object\n",
      " 6   text_nospaces        34152 non-null  object\n",
      " 7   text_noprefixb       34152 non-null  object\n",
      " 8   preprocessed_text    34152 non-null  object\n",
      "dtypes: int64(1), object(8)\n",
      "memory usage: 2.3+ MB\n",
      "None\n",
      "label\n",
      "0    17572\n",
      "1    16580\n",
      "Name: count, dtype: int64\n",
      "count    34152.000000\n",
      "mean        74.680839\n",
      "std         23.460862\n",
      "min          2.000000\n",
      "25%         61.000000\n",
      "50%         70.000000\n",
      "75%         85.000000\n",
      "max        279.000000\n",
      "Name: title, dtype: float64\n"
     ]
    }
   ],
   "source": [
    "print(df.info())\n",
    "print(df['label'].value_counts())\n",
    "print(df['title'].apply(len).describe())  # length of text stats"
   ]
  },
  {
   "cell_type": "code",
   "execution_count": 18,
   "id": "2d2ca207",
   "metadata": {},
   "outputs": [],
   "source": [
    "from sklearn.model_selection import train_test_split\n",
    "\n",
    "X = df['preprocessed_text']\n",
    "y = df['label']\n",
    "\n",
    "X_train, X_test, y_train, y_test = train_test_split(X, y, test_size=0.2, random_state=42)"
   ]
  },
  {
   "cell_type": "code",
   "execution_count": 19,
   "id": "fb966856",
   "metadata": {},
   "outputs": [],
   "source": [
    "from sklearn.feature_extraction.text import TfidfVectorizer\n",
    "\n",
    "vectorizer = TfidfVectorizer(max_features=5000)\n",
    "X_train_vec = vectorizer.fit_transform(X_train)\n",
    "X_test_vec = vectorizer.transform(X_test)"
   ]
  },
  {
   "cell_type": "code",
   "execution_count": 20,
   "id": "56fcc6fb",
   "metadata": {},
   "outputs": [
    {
     "name": "stdout",
     "output_type": "stream",
     "text": [
      "              precision    recall  f1-score   support\n",
      "\n",
      "           0       0.95      0.94      0.95      3529\n",
      "           1       0.93      0.95      0.94      3302\n",
      "\n",
      "    accuracy                           0.94      6831\n",
      "   macro avg       0.94      0.95      0.94      6831\n",
      "weighted avg       0.94      0.94      0.94      6831\n",
      "\n",
      "Accuracy: 0.9448104230712926\n"
     ]
    }
   ],
   "source": [
    "from sklearn.linear_model import LogisticRegression\n",
    "from sklearn.metrics import classification_report, accuracy_score\n",
    "\n",
    "model = LogisticRegression(max_iter=1000)\n",
    "model.fit(X_train_vec, y_train)\n",
    "\n",
    "y_pred = model.predict(X_test_vec)\n",
    "print(classification_report(y_test, y_pred))\n",
    "print(\"Accuracy:\", accuracy_score(y_test, y_pred))"
   ]
  },
  {
   "cell_type": "markdown",
   "id": "f8a0936c",
   "metadata": {},
   "source": []
  }
 ],
 "metadata": {
  "kernelspec": {
   "display_name": "Python 3",
   "language": "python",
   "name": "python3"
  },
  "language_info": {
   "codemirror_mode": {
    "name": "ipython",
    "version": 3
   },
   "file_extension": ".py",
   "mimetype": "text/x-python",
   "name": "python",
   "nbconvert_exporter": "python",
   "pygments_lexer": "ipython3",
   "version": "3.11.9"
  }
 },
 "nbformat": 4,
 "nbformat_minor": 5
}
